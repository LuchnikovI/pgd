{
 "cells": [
  {
   "cell_type": "markdown",
   "metadata": {},
   "source": [
    "### Example\n",
    "\n",
    "Here we define some graph that would benefit from L1 optimization by choosing good order of nodes."
   ]
  },
  {
   "cell_type": "code",
   "execution_count": null,
   "metadata": {},
   "outputs": [],
   "source": [
    "import networkx as nx  # pip install networkx\n",
    "from pgd_utils import PSDecomposer  # see ReadMe.md\n",
    "\n",
    "\n",
    "# Let us generate a simple initiator graph g_prime\n",
    "# 0 --- 1 --- 5 --- 6\n",
    "# |   /   \\       / |\n",
    "# | /       \\   /   |\n",
    "# 3 --- 2 --- 4 --- 7\n",
    "\n",
    "g_prime  = nx.Graph()\n",
    "g_prime.add_node(0)\n",
    "g_prime.add_node(1)\n",
    "g_prime.add_node(2)\n",
    "g_prime.add_node(3)\n",
    "g_prime.add_node(4)\n",
    "g_prime.add_node(5)\n",
    "g_prime.add_node(6)\n",
    "g_prime.add_node(7)\n",
    "# self loops to make kronecker graph 100% connected\n",
    "g_prime.add_edge(0, 0)\n",
    "g_prime.add_edge(1, 1)\n",
    "g_prime.add_edge(2, 2)\n",
    "g_prime.add_edge(3, 3)\n",
    "g_prime.add_edge(4, 4)\n",
    "g_prime.add_edge(5, 5)\n",
    "g_prime.add_edge(6, 6)\n",
    "g_prime.add_edge(7, 7)\n",
    "g_prime.add_edge(0, 1)\n",
    "g_prime.add_edge(3, 0)\n",
    "g_prime.add_edge(1, 3)\n",
    "g_prime.add_edge(3, 2)\n",
    "g_prime.add_edge(4, 2)\n",
    "g_prime.add_edge(1, 4)\n",
    "g_prime.add_edge(1, 5)\n",
    "g_prime.add_edge(5, 6)\n",
    "g_prime.add_edge(6, 4)\n",
    "g_prime.add_edge(4, 7)\n",
    "g_prime.add_edge(7, 6)\n",
    "nx.draw(g_prime)"
   ]
  },
  {
   "cell_type": "markdown",
   "metadata": {},
   "source": [
    "Let us decompose the adjacency matrix of the initiator graph into Pauli strings"
   ]
  },
  {
   "cell_type": "code",
   "execution_count": null,
   "metadata": {},
   "outputs": [],
   "source": [
    "from functools import reduce\n",
    "\n",
    "# These two functions are to get sorted amplitudes of Pauli strings (descending order)\n",
    "\n",
    "def get_amplitudes(decomposition):\n",
    "    for (_, ampls) in decomposition:\n",
    "        yield from map(abs, ampls)\n",
    "\n",
    "def get_sorted_amplitudes(decomposition):\n",
    "    return sorted(get_amplitudes(decomposition), reverse=True)\n",
    "\n",
    "# This function returns l1 error vs number of pauli strings included\n",
    "\n",
    "def l1_relative_error(decomposition):\n",
    "    l1 = sum(get_amplitudes(decomposition))\n",
    "    l1_err = reduce(lambda acc, val: acc + [acc[-1] - val / l1] if acc else [1 - val / l1], get_sorted_amplitudes(ps_decomposition), None)\n",
    "    return l1_err\n",
    "\n",
    "# This function comutes number of non-zero Pauli strings in the decomposition\n",
    "\n",
    "def get_number(decomposition):\n",
    "    return sum(map(lambda x: len(x[1]), decomposition))\n",
    "\n",
    "# Here we run decomposition\n",
    "\n",
    "ps_decomposer = PSDecomposer()\n",
    "for (id1, id2) in g_prime.edges:\n",
    "    ps_decomposer.add_edge(id1, id2, 1.)\n",
    "ps_decomposition = ps_decomposer.decompose()\n",
    "for (order, (pstrs, weights)) in enumerate(ps_decomposition):\n",
    "    print(f\"For order {order} one has pauli strings {pstrs} with weights {weights}\")\n",
    "print(\"L1 norm in the Pauli basis: \", sum(get_amplitudes(ps_decomposition)))\n",
    "print(\"Number of Pauli strings is \", get_number(ps_decomposition))\n",
    "print(\"Total number of Pauli strings necessary to decompose any graph of given size is 64\")"
   ]
  },
  {
   "cell_type": "markdown",
   "metadata": {},
   "source": [
    "Now let us do the same, but with Pauli basis L1 norm minimization wrt nodes ordering in the graph"
   ]
  },
  {
   "cell_type": "code",
   "execution_count": null,
   "metadata": {},
   "outputs": [],
   "source": [
    "optimal_order = ps_decomposer.pauli_optimize()\n",
    "ps_decomposition_optimized = ps_decomposer.decompose()\n",
    "for (order, (pstrs, weights)) in enumerate(ps_decomposition_optimized):\n",
    "    print(f\"For order {order} one has pauli strings {pstrs} with weights {weights}\")\n",
    "print(\"L1 norm in the Pauli basis: \", sum(get_amplitudes(ps_decomposition_optimized)))\n",
    "print(\"Optimal order of nodes is \", optimal_order)\n",
    "print(\"Number of Pauli strings is \", get_number(ps_decomposition_optimized))\n",
    "print(\"Total number of Pauli strings necessary to decompose any graph of given size is 64\")"
   ]
  },
  {
   "cell_type": "markdown",
   "metadata": {},
   "source": [
    "One can note that the L1 norm and number of Pauli strings is smaller, what is expected"
   ]
  },
  {
   "cell_type": "markdown",
   "metadata": {},
   "source": [
    "We know that for a kronecker product graph amplitudes of Pauli strings are given by tensor product of amplitudes of an initiator graph. Let us consider a Kronecker graph built by 4 initiator graphs. For this kronecker graph let us compare amplitudes of decomposition with fixed order of nodes with amplitudes of decomposition with optimized order of nodes."
   ]
  },
  {
   "cell_type": "code",
   "execution_count": null,
   "metadata": {},
   "outputs": [],
   "source": [
    "import matplotlib.pyplot as plt\n",
    "from numpy import array, kron, sort, cumsum\n",
    "\n",
    "amplitudes = array(list(get_amplitudes(ps_decomposition)))\n",
    "optimized_amplitudes = array(list(get_amplitudes(ps_decomposition_optimized)))\n",
    "kronecker_amplitudes = sort(kron(amplitudes, kron(amplitudes, kron(amplitudes, amplitudes))))\n",
    "optimized_kronecker_amplitudes = sort(kron(optimized_amplitudes, kron(optimized_amplitudes, kron(optimized_amplitudes, optimized_amplitudes))))\n",
    "relative_l1_err = (1 - cumsum(kronecker_amplitudes) / sum(kronecker_amplitudes))\n",
    "optimized_relative_l1_err = (1 - cumsum(optimized_kronecker_amplitudes) / sum(optimized_kronecker_amplitudes))\n",
    "plt.title(\"Pauli basis L1 error VS number of Pauli strings in the decomposition\")\n",
    "plt.plot(relative_l1_err, label=\"Decomposition with fixed order of nodes\")\n",
    "plt.plot(optimized_relative_l1_err, label=\"Decomposition with optimized order of nodes\")\n",
    "plt.vlines((8 ** 2) ** 4, ymax=1, ymin=1e-3, colors=\"red\", label=\"Number of Pauli strings to decompose any graph\")\n",
    "plt.ylabel(\"L1 relative error\")\n",
    "plt.xlabel(\"Number of Paulis trings included\")\n",
    "plt.xscale(\"log\")\n",
    "plt.yscale(\"log\")\n",
    "plt.ylim(top=1, bottom=1e-3)\n",
    "plt.legend()"
   ]
  }
 ],
 "metadata": {
  "kernelspec": {
   "display_name": ".venv",
   "language": "python",
   "name": "python3"
  },
  "language_info": {
   "codemirror_mode": {
    "name": "ipython",
    "version": 3
   },
   "file_extension": ".py",
   "mimetype": "text/x-python",
   "name": "python",
   "nbconvert_exporter": "python",
   "pygments_lexer": "ipython3",
   "version": "3.12.3"
  }
 },
 "nbformat": 4,
 "nbformat_minor": 2
}
