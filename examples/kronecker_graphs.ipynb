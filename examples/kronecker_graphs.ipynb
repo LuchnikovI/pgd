{
 "cells": [
  {
   "cell_type": "markdown",
   "metadata": {},
   "source": [
    "### Kronecker graphs preliminaries.\n",
    "\n",
    "The corresponding paper could be found [here](https://www.jmlr.org/papers/volume11/leskovec10a/leskovec10a.pdf).\n",
    "\n",
    "__Kronecker graph definition__: a Kronecker graph is defined by its adjacency matrix $C = \\bigotimes_{i=1}^N C'$, where $C'$ is the adjacency matrix of an initiator graph.\n",
    "\n",
    "They exhibit many properties of real-world large networks such as web graphs, social networks, biological networks, etc, and often used as their mathematical models.\n",
    "\n",
    "__Observation__: if $C'$ is Pauli sparse, then $C$ is also Pauli sparse.\n",
    "\n",
    "Let us compute the ratio $\\alpha$ between number of non-zero Pauli strings in $C$ and the total number of Pauli strings necessary to decompose an arbitrary matrix of the same size. Let us assume, that $C' \\in \\mathbb{R}^{2^n\\times 2^n}$ can be decomposed into $m$ Pauli strings. Then, by the Kronecker graph definition, $C$ can be decomposed into $m^N$ while the total number of Pauli strings necessary to decompose an arbitrary matrix of size $2^{nN} \\times 2^{nN}$ is $4^{nN}$. Thus $$\\alpha = \\left(\\frac{m}{4^n}\\right)^N$$, i.e. the number of Pauli strings is exponentially suppressed."
   ]
  },
  {
   "cell_type": "markdown",
   "metadata": {},
   "source": [
    "### Example"
   ]
  },
  {
   "cell_type": "code",
   "execution_count": null,
   "metadata": {},
   "outputs": [],
   "source": [
    "import networkx as nx  # pip install networkx\n",
    "from pgd_utils import PSDecomposer  # see ReadMe.md\n",
    "\n",
    "\n",
    "# Let us generate a simple initiator graph g_prime\n",
    "# 0 --- 1\n",
    "# |   / |\n",
    "# | /   |\n",
    "# 3 --- 2\n",
    "\n",
    "g_prime  = nx.Graph()\n",
    "g_prime.add_node(0)\n",
    "g_prime.add_node(1)\n",
    "g_prime.add_node(2)\n",
    "g_prime.add_node(3)\n",
    "# self loops to make kronecker graph 100% connected\n",
    "g_prime.add_edge(0, 0)\n",
    "g_prime.add_edge(1, 1)\n",
    "g_prime.add_edge(2, 2)\n",
    "g_prime.add_edge(3, 3)\n",
    "g_prime.add_edge(0, 1)\n",
    "g_prime.add_edge(1, 2)\n",
    "g_prime.add_edge(2, 3)\n",
    "g_prime.add_edge(3, 0)\n",
    "g_prime.add_edge(0, 2)\n",
    "nx.draw(g_prime)"
   ]
  },
  {
   "cell_type": "markdown",
   "metadata": {},
   "source": [
    "Now let us decompose the adjacency matrix of the initiator graph into Pauli strings"
   ]
  },
  {
   "cell_type": "code",
   "execution_count": null,
   "metadata": {},
   "outputs": [],
   "source": [
    "ps_decomposer = PSDecomposer()\n",
    "for (id1, id2) in g_prime.edges:\n",
    "    ps_decomposer.add_edge(id1, id2, 1.)\n",
    "ps_decomposer.pauli_overlap(2)\n",
    "ps_decomposition = ps_decomposer.decompose()\n",
    "for (order, (pstrs, weights)) in enumerate(ps_decomposition):\n",
    "    print(f\"For order {order} one has pauli strings {pstrs} with weights {weights}\")"
   ]
  },
  {
   "cell_type": "markdown",
   "metadata": {},
   "source": [
    "One can see that initiator graph can be decomposed into 5 Pauli strings. Let us build a Kronecker graph for the initiator graph."
   ]
  },
  {
   "cell_type": "code",
   "execution_count": null,
   "metadata": {},
   "outputs": [],
   "source": [
    "from functools import reduce\n",
    "from itertools import repeat\n",
    "\n",
    "N = 5\n",
    "\n",
    "g = reduce(nx.tensor_product, repeat(g_prime, N - 1), g_prime)\n",
    "nx.draw(g, nx.spring_layout(g), node_size=50)"
   ]
  },
  {
   "cell_type": "markdown",
   "metadata": {},
   "source": [
    "Let us now decompose the obtained Kronecker graph into Pauli strings"
   ]
  },
  {
   "cell_type": "code",
   "execution_count": null,
   "metadata": {},
   "outputs": [],
   "source": [
    "# Don't pay attention on this piece of code, this is just relabeling of nx.graph nodes\n",
    "\n",
    "def inorder_tree_traverser(t):\n",
    "    if isinstance(t, int):\n",
    "        yield t\n",
    "    elif isinstance(t, tuple):\n",
    "        for elem in t:\n",
    "            yield from inorder_tree_traverser(elem)\n",
    "    else:\n",
    "        assert False\n",
    "\n",
    "class Tuple2Int:\n",
    "    def __init__(self):\n",
    "        pass\n",
    "    def get(self, t, _ = None):\n",
    "        return self._get(tuple(inorder_tree_traverser(t)), _)\n",
    "    def _get(self, t, _):\n",
    "        if t:\n",
    "            return t[0] + 4 * self._get(t[1:], _)\n",
    "        else:\n",
    "            return 0\n",
    "\n",
    "g = nx.relabel_nodes(g, Tuple2Int())\n",
    "\n",
    "# -------------------------------------------------------------------------------------\n",
    "\n",
    "ps_decomposer = PSDecomposer()\n",
    "\n",
    "for (id1, id2) in g.edges:\n",
    "    ps_decomposer.add_edge(id1, id2, 1.)\n",
    "ps_decomposer.pauli_overlap(2)\n",
    "ps_decomposition = ps_decomposer.decompose()\n",
    "number_of_pauli_strings = 0\n",
    "for (order, (pstrs, weights)) in enumerate(ps_decomposition):\n",
    "    print(f\"For order {order} one has pauli strings {pstrs} with weights {weights}\")\n",
    "    number_of_pauli_strings += len(pstrs)\n",
    "print(f\"Total number of Pauli strings is {number_of_pauli_strings}\")"
   ]
  },
  {
   "cell_type": "markdown",
   "metadata": {},
   "source": [
    "One can see that the total number of non-zero Pauli strings is 3125 = $5^5$, which agrees with order 5 of Kronecker graph and 5 non-zero Pauli strings for initiator graph. The total ammount of Pauli strings that is necessary to represent an arbitrary matrix of size $1024\\times 1024$ is $2^{20}$ which is much larger."
   ]
  }
 ],
 "metadata": {
  "kernelspec": {
   "display_name": ".venv",
   "language": "python",
   "name": "python3"
  },
  "language_info": {
   "codemirror_mode": {
    "name": "ipython",
    "version": 3
   },
   "file_extension": ".py",
   "mimetype": "text/x-python",
   "name": "python",
   "nbconvert_exporter": "python",
   "pygments_lexer": "ipython3",
   "version": "3.12.3"
  }
 },
 "nbformat": 4,
 "nbformat_minor": 2
}
